{
 "cells": [
  {
   "cell_type": "code",
   "execution_count": null,
   "metadata": {
    "id": "9JJH_AdLPxw4"
   },
   "outputs": [],
   "source": [
    "import numpy as np\n",
    "import torch\n",
    "from PIL import Image"
   ]
  },
  {
   "cell_type": "markdown",
   "metadata": {
    "id": "ZYYlSMgVQYbf"
   },
   "source": [
    "# Loading the model :"
   ]
  },
  {
   "cell_type": "code",
   "execution_count": null,
   "metadata": {
    "colab": {
     "base_uri": "https://localhost:8080/",
     "height": 156,
     "referenced_widgets": [
      "5fa6b746b2084843babd0e194fa4db60",
      "88172a3f51de4cadb77efc11314ea458",
      "bd7a0d2f38fa41afba180118a0fde5b5",
      "a837d01509fd4ac6ba20a5d2a524c175",
      "cc7e5c45187b4c1b9ea36e1ab6db16be",
      "16201101a7974e49897cecf7cca87469",
      "c5b8f62808484d4db20db63b2d0fa253",
      "50eac138d45344abacfd0120bfd0ffb7",
      "d61a437d3f084ee693a6fb98fd649989",
      "5e4b8a083a164dbd98fa0ca4fee77d41",
      "c5539051c910483985d137549ce8fecb"
     ]
    },
    "id": "Uxh7QrbyQfVV",
    "outputId": "37e668ef-f001-4950-cae4-82f8def272e2"
   },
   "outputs": [],
   "source": [
    "from diffusers import StableDiffusionInpaintPipeline\n",
    "inpainting_model = \"runwayml/stable-diffusion-inpainting\"\n",
    "device='cuda'\n",
    "pipe=StableDiffusionInpaintPipeline.from_pretrained(inpainting_model,torch_dtype=torch.float16).to(device)"
   ]
  },
  {
   "cell_type": "code",
   "execution_count": null,
   "metadata": {
    "colab": {
     "base_uri": "https://localhost:8080/"
    },
    "id": "H6gtrmQY1fWR",
    "outputId": "50d75e6c-53b2-4f8c-c8dd-ebe39955541d"
   },
   "outputs": [],
   "source": [
    "!pip install xformers"
   ]
  },
  {
   "cell_type": "code",
   "execution_count": null,
   "metadata": {
    "id": "m8EtMCER1Qs9"
   },
   "outputs": [],
   "source": [
    "pipe.enable_attention_slicing()\n",
    "pipe.enable_xformers_memory_efficient_attention()"
   ]
  },
  {
   "cell_type": "code",
   "execution_count": null,
   "metadata": {
    "id": "pPV_WVMp1x0V"
   },
   "outputs": [],
   "source": [
    "def matrix_imgs(imgs, rows=1, col=3, sclae=1):\n",
    "  assert len(imgs) == rows*col\n",
    "  w, h = imgs[0].size\n",
    "  w, h = int(w*sclae), int(h*sclae)\n",
    "  matrix = Image.new('RGB', (col*w, rows*h))\n",
    "  matrix_w, matrix_h = matrix.size\n",
    "  for i, img in enumerate(imgs):\n",
    "    img = img.resize((w, h), Image.ANTIALIAS)\n",
    "    matrix.paste(img, box=(i%col*w, i//col*h))\n",
    "  return matrix"
   ]
  },
  {
   "cell_type": "code",
   "execution_count": null,
   "metadata": {
    "id": "r0CscDO33UGZ"
   },
   "outputs": [],
   "source": [
    "img_path = \"/content/bench_img.jpg\""
   ]
  },
  {
   "cell_type": "code",
   "execution_count": null,
   "metadata": {
    "id": "-ZvxCHm53Xba"
   },
   "outputs": [],
   "source": [
    "img = Image.open(img_path).convert('RGB')"
   ]
  },
  {
   "cell_type": "code",
   "execution_count": null,
   "metadata": {
    "colab": {
     "base_uri": "https://localhost:8080/",
     "height": 529
    },
    "id": "Jggg84kh3XYW",
    "outputId": "d064469e-2af2-4781-8b91-fb8385a0bb45"
   },
   "outputs": [],
   "source": [
    "img"
   ]
  },
  {
   "cell_type": "code",
   "execution_count": null,
   "metadata": {
    "id": "o9xEVcpk3XVE"
   },
   "outputs": [],
   "source": []
  },
  {
   "cell_type": "code",
   "execution_count": null,
   "metadata": {
    "id": "WYWu5O7e3XRy"
   },
   "outputs": [],
   "source": []
  },
  {
   "cell_type": "markdown",
   "metadata": {
    "id": "Q9J_6MGO09H5"
   },
   "source": [
    "#Loading the Mask :"
   ]
  },
  {
   "cell_type": "code",
   "execution_count": null,
   "metadata": {
    "id": "AZeqNQk70mjv"
   },
   "outputs": [],
   "source": [
    "img_mask_path = '/content/bench_img_mask.jpg'"
   ]
  },
  {
   "cell_type": "code",
   "execution_count": null,
   "metadata": {
    "id": "R1vfgHv-3gPY"
   },
   "outputs": [],
   "source": [
    "img_mask = Image.open(img_mask_path)"
   ]
  },
  {
   "cell_type": "code",
   "execution_count": null,
   "metadata": {
    "colab": {
     "base_uri": "https://localhost:8080/",
     "height": 529
    },
    "id": "oPxVmyA43j-t",
    "outputId": "668e01b0-f234-40ab-889c-7e8c05a3c87c"
   },
   "outputs": [],
   "source": [
    "img_mask"
   ]
  },
  {
   "cell_type": "code",
   "execution_count": null,
   "metadata": {
    "id": "Gg0mwf3P3qyA"
   },
   "outputs": [],
   "source": [
    "seed = 777"
   ]
  },
  {
   "cell_type": "markdown",
   "metadata": {
    "id": "9nIFvndr4RRE"
   },
   "source": [
    "# Creating a Prompt:"
   ]
  },
  {
   "cell_type": "code",
   "execution_count": null,
   "metadata": {
    "colab": {
     "base_uri": "https://localhost:8080/",
     "height": 49,
     "referenced_widgets": [
      "95f182a1533a46ba9e623b997701608c",
      "67e2a56903e74cd3b49a7df89d355178",
      "4dfd8af65c3044d49ce1f026adab3593",
      "d2501d681ef94b3e97d38ad0dd8ac2a9",
      "f89647c402e74025ae472e176be29919",
      "ac2ac6f34e6f422da8024bebb30cda4c",
      "66abca497a114754a37cd565d24d6c28",
      "42c04085e3a54388bb67f28240cd46ce",
      "5979d75e4ad140aca7525b4419e550f0",
      "aa8ade0a154547ba9fea3d69a4467e0a",
      "4924086f35f947f1aa151d0c116570c5"
     ]
    },
    "id": "3GDw5U3q4Qg4",
    "outputId": "71bc3625-4280-474b-c963-59407bf5577e"
   },
   "outputs": [],
   "source": [
    "prompt = \"\"\n",
    "generator = torch.Generator(device=device).manual_seed(seed)\n",
    "result_img = pipe(prompt=prompt, image=img, mask_image=img_mask, generator=generator).images[0]"
   ]
  },
  {
   "cell_type": "code",
   "execution_count": null,
   "metadata": {
    "colab": {
     "base_uri": "https://localhost:8080/",
     "height": 529
    },
    "id": "w-VSGjXv-0QI",
    "outputId": "b14c2ee5-ef64-4a52-9986-57b4852eee45"
   },
   "outputs": [],
   "source": [
    "result_img"
   ]
  },
  {
   "cell_type": "markdown",
   "metadata": {
    "id": "0Z6mKwLa-7lD"
   },
   "source": [
    "# exchanging the objects:"
   ]
  },
  {
   "cell_type": "code",
   "execution_count": null,
   "metadata": {
    "colab": {
     "base_uri": "https://localhost:8080/",
     "height": 561,
     "referenced_widgets": [
      "029ffe8ed6f54b60856998c6211f0697",
      "0248ecb375f74307ae2b4c5433bc5641",
      "ff57b50bf0ac4546945947514ffcf5fb",
      "4760899de8094bbcb90740f117cc6bf9",
      "ea3929f6d89b48d3a2e179bf27749995",
      "fce9aa9634c446af87d015468381277a",
      "043ce59fbb084ed6a0ddaf97988317f6",
      "7eb94499aca04fc69aef44cff73b2dc3",
      "cec3fd38a2e843c5b49eca1e31e03c86",
      "66c67565f0334a8ea05607fec0224701",
      "ba3d9655913242afb8e811e263edda50"
     ]
    },
    "id": "Lc-4ESjA-26P",
    "outputId": "97c0f6be-3371-487f-d0f7-8ede6f5f6454"
   },
   "outputs": [],
   "source": [
    "prompt = \" an beautiful electric guitar\"\n",
    "generator = torch.Generator(device=device).manual_seed(seed)\n",
    "result_img = pipe(prompt=prompt, image=img, mask_image=img_mask, generator=generator).images[0]\n",
    "result_img"
   ]
  },
  {
   "cell_type": "markdown",
   "metadata": {
    "id": "_OHFctmz_OFH"
   },
   "source": [
    "# Comparing the Images:"
   ]
  },
  {
   "cell_type": "code",
   "execution_count": null,
   "metadata": {
    "colab": {
     "base_uri": "https://localhost:8080/",
     "height": 561,
     "referenced_widgets": [
      "4a31e5d81d144cb494d8ba94312838b7",
      "7d34e5ebca2d4910a67a2f7fea441ca5",
      "42926333e10f41e282c25ab42ae20026",
      "35a5bb71aa824bd08b9db2903be4afb8",
      "c313052485e94387b3895d5052fd3ecd",
      "2146cbf285cb4b71b4b478620c0cae4d",
      "b7bba5053b5145cc84171fa6e99372f3",
      "80440b29120b488e9f623421352af869",
      "1b659115c867483ab23e64b2e8988aa2",
      "f50b5e41e3ad4e1b8c63862f11bc284a",
      "c251c521af634e9aa2c6f68def236166"
     ]
    },
    "id": "kEK8ny79_GCD",
    "outputId": "cf276e2b-5a63-445e-9adc-7a7e089e7237"
   },
   "outputs": [],
   "source": [
    "prompt = \" an bonsai tree\"\n",
    "generator = torch.Generator(device=device).manual_seed(seed)\n",
    "result_img = pipe(prompt=prompt, image=img, mask_image=img_mask, generator=generator).images[0]\n",
    "result_img"
   ]
  },
  {
   "cell_type": "markdown",
   "metadata": {
    "id": "nUJL54zE_scI"
   },
   "source": [
    "#"
   ]
  },
  {
   "cell_type": "code",
   "execution_count": null,
   "metadata": {
    "id": "Wf3abCLx_qTO"
   },
   "outputs": [],
   "source": []
  }
 ],
 "metadata": {
  "accelerator": "GPU",
  "colab": {
   "gpuType": "T4",
   "provenance": []
  },
  "kernelspec": {
   "display_name": "Python 3",
   "name": "python3"
  },
  "language_info": {
   "name": "python"
  }
 },
 "nbformat": 4,
 "nbformat_minor": 0
}
